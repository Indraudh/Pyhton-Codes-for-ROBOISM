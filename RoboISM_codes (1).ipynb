{
  "nbformat": 4,
  "nbformat_minor": 0,
  "metadata": {
    "colab": {
      "name": "RoboISM codes.ipynb",
      "provenance": [],
      "collapsed_sections": []
    },
    "kernelspec": {
      "name": "python3",
      "display_name": "Python 3"
    },
    "language_info": {
      "name": "python"
    }
  },
  "cells": [
    {
      "cell_type": "code",
      "execution_count": null,
      "metadata": {
        "colab": {
          "base_uri": "https://localhost:8080/"
        },
        "id": "13035VaDN3kx",
        "outputId": "434203aa-dc4f-4f68-e43c-b37c3b1164fa"
      },
      "outputs": [
        {
          "output_type": "stream",
          "name": "stdout",
          "text": [
            "Enter 'asc' to print in ascending order.Enter 'desc' for descending order=\n",
            "desc\n",
            "[9, 5, 4, 3, 2, 1]\n"
          ]
        }
      ],
      "source": [
        "#Q1\n",
        "def function(l,s):\n",
        "    if s=='asc':\n",
        "        l.sort()\n",
        "    else:\n",
        "        l.sort(reverse=True)\n",
        "    print(l)\n",
        "l=[1,5,4,9,3,2]\n",
        "s=input(\"Enter 'asc' to print in ascending order.Enter 'desc' for descending order=\\n\")\n",
        "function(l,s)"
      ]
    },
    {
      "cell_type": "code",
      "source": [
        "#Q2\n",
        "def creditcard(s):\n",
        "    s=s[len(s)-4:]\n",
        "    return s\n",
        "s=input(\"Enter the credit card number\")\n",
        "print(creditcard(s))"
      ],
      "metadata": {
        "colab": {
          "base_uri": "https://localhost:8080/"
        },
        "id": "CK4VcOLIVjd_",
        "outputId": "4b21aefd-3b90-49fa-e671-7a2fdc358303"
      },
      "execution_count": null,
      "outputs": [
        {
          "output_type": "stream",
          "name": "stdout",
          "text": [
            "Enter the credit card number444444444\n",
            "4444\n"
          ]
        }
      ]
    },
    {
      "cell_type": "code",
      "source": [
        "#Q3\n",
        "def function(a,b,operation):\n",
        "    if operation==\"+\":\n",
        "        return a+b\n",
        "    elif operation==\"-\":\n",
        "        return a-b\n",
        "    elif operation==\"/\":\n",
        "        return a/b\n",
        "    elif operation==\".\":\n",
        "        return a*b\n",
        "a=int(input(\"Enter the first number=\"))\n",
        "b=int(input(\"Enter the second number=\"))\n",
        "operation=input(\"Enter which operation you want to do=\")\n",
        "print(function(a,b,operation))"
      ],
      "metadata": {
        "colab": {
          "base_uri": "https://localhost:8080/"
        },
        "id": "wR24w7Vchb5K",
        "outputId": "8f19e233-700b-4b67-b96f-1a11580016ed"
      },
      "execution_count": null,
      "outputs": [
        {
          "output_type": "stream",
          "name": "stdout",
          "text": [
            "Enter the first number=5\n",
            "Enter the second number=4\n",
            "9\n"
          ]
        }
      ]
    },
    {
      "cell_type": "code",
      "source": [
        "#Q4\n",
        "def string(str):\n",
        "    n=len(str)\n",
        "    new_str=\" \"\n",
        "    for i in range(n):\n",
        "        new_str  =new_str + (str[i]*2)\n",
        "    return new_str\n",
        "s1=input(\"enter the string=\")\n",
        "print(string(s1))"
      ],
      "metadata": {
        "colab": {
          "base_uri": "https://localhost:8080/"
        },
        "id": "2WNaj9OtmwfS",
        "outputId": "94158790-1e5a-4190-aa58-7acec7c37f60"
      },
      "execution_count": 11,
      "outputs": [
        {
          "output_type": "stream",
          "name": "stdout",
          "text": [
            "enter the string=abc\n",
            " aabbcc\n"
          ]
        }
      ]
    },
    {
      "cell_type": "code",
      "source": [
        "#Q5\n",
        "import random\n",
        "def duplicate(list):\n",
        "    for i in list:\n",
        "        if list.count(list[i]>1):\n",
        "            return (list[i])\n",
        "randomlist=[]\n",
        "for x in range(1,99):\n",
        "      n=random.randint(1,99)\n",
        "      randomlist.append(n)\n",
        "print(\"the element which is duplicate is\",duplicate(randomlist))"
      ],
      "metadata": {
        "id": "RkM3QYkan9X4",
        "colab": {
          "base_uri": "https://localhost:8080/"
        },
        "outputId": "d4ddace7-78eb-4b3e-ffbd-0c45b0e9564f"
      },
      "execution_count": 17,
      "outputs": [
        {
          "output_type": "stream",
          "name": "stdout",
          "text": [
            "the element which is duplicate is 75\n"
          ]
        }
      ]
    },
    {
      "cell_type": "code",
      "source": [
        "#Q6\n",
        "import math\n",
        "n=int(input(\"Enter the  range\"))\n",
        "for i in range(2,n+1):\n",
        "    flag=0\n",
        "    for j in range(2,int(math.sqrt(i)+1)):\n",
        "            if i%j==0:\n",
        "                flag=1\n",
        "                break\n",
        "    if flag==0:\n",
        "       print(i)"
      ],
      "metadata": {
        "colab": {
          "base_uri": "https://localhost:8080/"
        },
        "id": "cxARu04Lnay0",
        "outputId": "8ef24604-51bc-461c-8f52-70be4923a1a1"
      },
      "execution_count": null,
      "outputs": [
        {
          "output_type": "stream",
          "name": "stdout",
          "text": [
            "Enter the  range20\n",
            "2\n",
            "3\n",
            "5\n",
            "7\n",
            "11\n",
            "13\n",
            "17\n",
            "19\n"
          ]
        }
      ]
    },
    {
      "cell_type": "code",
      "source": [
        "#Q7\n",
        "from scipy import stats\n",
        "list=[]\n",
        "n=int(input(\"Enter thenumbe of elements=\"))\n",
        "print(\"Enter the elements\")\n",
        "for i in range(n):\n",
        "    ele=int(input())\n",
        "    list.append(ele)\n",
        "print(\"The repeated element is \",stats.mode(list))\n"
      ],
      "metadata": {
        "colab": {
          "base_uri": "https://localhost:8080/"
        },
        "id": "-yjJRuDb-YiY",
        "outputId": "6b095d25-8f75-42ba-e218-08a76d019640"
      },
      "execution_count": null,
      "outputs": [
        {
          "output_type": "stream",
          "name": "stdout",
          "text": [
            "Enter thenumbe of elements=7\n",
            "Enter the elements\n",
            "4\n",
            "4\n",
            "4\n",
            "3\n",
            "3\n",
            "2\n",
            "2\n",
            "ModeResult(mode=array([4]), count=array([3]))\n"
          ]
        }
      ]
    },
    {
      "cell_type": "code",
      "source": [
        "#Q8\n",
        "s=input(\"Enter the string\")\n",
        "sum=0;\n",
        "for i in range(len(s)):\n",
        "    if ord(s[i])>=ord(\"0\") and ord(s[i])<=ord(\"9\"):\n",
        "                sum=sum+int(s[i])\n",
        "    else :\n",
        "        continue\n",
        "print(sum)"
      ],
      "metadata": {
        "colab": {
          "base_uri": "https://localhost:8080/"
        },
        "id": "r3kZNg0muICz",
        "outputId": "62173018-891e-4a92-9018-d7f9a557b4bb"
      },
      "execution_count": null,
      "outputs": [
        {
          "output_type": "stream",
          "name": "stdout",
          "text": [
            "Enter the stringh20 15 wa73r\n",
            "18\n"
          ]
        }
      ]
    },
    {
      "cell_type": "code",
      "source": [
        "#Q9\n",
        "s=input(\"Enter the string\")\n",
        "sorted_str=''.join(sorted(s))\n",
        "print(\"The sorted string is \",sorted_str)\n"
      ],
      "metadata": {
        "colab": {
          "base_uri": "https://localhost:8080/"
        },
        "id": "YjTTQcm44_Ke",
        "outputId": "99d41082-b240-4544-e796-3d37226f217b"
      },
      "execution_count": null,
      "outputs": [
        {
          "output_type": "stream",
          "name": "stdout",
          "text": [
            "Enter the stringbcafehg\n",
            "The sorted string is  abcefgh\n"
          ]
        }
      ]
    },
    {
      "cell_type": "code",
      "source": [
        "#Q10\n",
        "x=int(input(\"Enter the first number\"))\n",
        "y=int(input(\"Enter the second number\"))\n",
        "x=x^y\n",
        "y=x^y\n",
        "x=x^y\n",
        "print(x,y)"
      ],
      "metadata": {
        "colab": {
          "base_uri": "https://localhost:8080/"
        },
        "id": "hau5AZnu8MgS",
        "outputId": "8dd1f214-a6a8-4e78-a021-9db4fff25e0e"
      },
      "execution_count": 13,
      "outputs": [
        {
          "output_type": "stream",
          "name": "stdout",
          "text": [
            "Enter the first number4\n",
            "Enter the second number5\n",
            "5 4\n"
          ]
        }
      ]
    }
  ]
}